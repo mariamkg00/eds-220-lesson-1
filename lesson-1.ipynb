{
 "cells": [
  {
   "cell_type": "markdown",
   "id": "5201347c-12f8-4c7c-97bb-a99e3ae8cb55",
   "metadata": {},
   "source": [
    "# `numpy\n",
    "- one of the core packages for numerical computing in Python\n",
    "- many packages are built on top of numpy\n",
    "- 'numpy' has been optimized for processing: faster due to memory access"
   ]
  },
  {
   "cell_type": "code",
   "execution_count": null,
   "id": "032e4b61-45c0-4853-b84d-8dbba0e01d25",
   "metadata": {
    "tags": []
   },
   "outputs": [],
   "source": [
    "#import Numpy with standard abbreviation\n",
    "import numpy as np "
   ]
  },
  {
   "cell_type": "markdown",
   "id": "4e56fcfe-89d3-476e-a2d9-103f26b59dbc",
   "metadata": {},
   "source": [
    "# Variables\n",
    "We can think about variables as a name we assign to a particular object in Python. For example:"
   ]
  },
  {
   "cell_type": "code",
   "execution_count": 2,
   "id": "13fdd3c7-3d6e-4d8c-ae74-407dc4c0c389",
   "metadata": {
    "tags": []
   },
   "outputs": [],
   "source": [
    "# assign a small array to a vraible a \n",
    "#np.array- making an array , list of a list. first row is 1,1,2\n",
    "a = np.array([ [1,1,2], [3,5,8] ])"
   ]
  },
  {
   "cell_type": "markdown",
   "id": "4e14e1b4-6771-4255-bdad-623f575013e0",
   "metadata": {},
   "source": [
    "WHen we run the cell, we store the variable and its value. We can see the variable's value in two ways:"
   ]
  },
  {
   "cell_type": "markdown",
   "id": "700e95bc-246f-4607-b488-d4b5d4672b58",
   "metadata": {
    "tags": []
   },
   "source": [
    "a\n",
    "#two rows three columns"
   ]
  },
  {
   "cell_type": "code",
   "execution_count": 4,
   "id": "bbdd92fd-91e2-4480-a7d2-9978ddc9da0a",
   "metadata": {
    "tags": []
   },
   "outputs": [
    {
     "name": "stdout",
     "output_type": "stream",
     "text": [
      "[[1 1 2]\n",
      " [3 5 8]]\n"
     ]
    }
   ],
   "source": [
    "print(a)"
   ]
  },
  {
   "cell_type": "markdown",
   "id": "cbad3516-6c4e-4867-88d4-ecf61d07d79c",
   "metadata": {},
   "source": [
    "## naming variables\n",
    "In the class, we are going to use 'snake_case' for naming variables. \n",
    "\n",
    "# Variables and objects\n",
    "**object**: often encountered in Python documentation and tutorials.\n",
    "- a bundle of properties and actions about something specific\n",
    "ex) \n",
    "- object: data frame\n",
    "- properties: number of rows, names of columns, data made\n",
    "- actions: selecting a row, adding a column \n",
    "\n",
    "A variable is a name we give a specific object, and the same object can be referenced by different variables. \n",
    "\n",
    "ex)\n",
    "- The Sun = object\n",
    "- sol = spanish word for sun = variable \n",
    "- soleil = French word for sun = another variable \n",
    "\n",
    "In practice, we will use object and variable interchangeably. "
   ]
  },
  {
   "cell_type": "markdown",
   "id": "b2286a32-2783-4571-8cac-0eff9149ba2c",
   "metadata": {},
   "source": [
    "# Types\n",
    "\n",
    "Each object in Python has a type. \n",
    "\n",
    "type = what kind of object it is. \n",
    "\n",
    "We can also call the type of the object, the **class** of the object. \n",
    "We can see the type/class of an object by using the `type` function:"
   ]
  },
  {
   "cell_type": "code",
   "execution_count": 5,
   "id": "77923b1c-d719-4a2c-bffb-eba6e09f0900",
   "metadata": {
    "tags": []
   },
   "outputs": [
    {
     "name": "stdout",
     "output_type": "stream",
     "text": [
      "[[1 1 2]\n",
      " [3 5 8]]\n"
     ]
    },
    {
     "data": {
      "text/plain": [
       "numpy.ndarray"
      ]
     },
     "execution_count": 5,
     "metadata": {},
     "output_type": "execute_result"
    }
   ],
   "source": [
    "print(a)\n",
    "type(a)"
   ]
  },
  {
   "cell_type": "markdown",
   "id": "e9904853-7a9b-4eb8-bbc5-ffd9daa650da",
   "metadata": {},
   "source": [
    "The `numpy.ndarray` is the core object/data type in the NumPy package. We can check the type of an entry in the array by indexing:"
   ]
  },
  {
   "cell_type": "code",
   "execution_count": 6,
   "id": "e892affc-1a37-427d-a571-3fb9a7244187",
   "metadata": {
    "tags": []
   },
   "outputs": [
    {
     "name": "stdout",
     "output_type": "stream",
     "text": [
      "1\n"
     ]
    },
    {
     "data": {
      "text/plain": [
       "numpy.int64"
      ]
     },
     "execution_count": 6,
     "metadata": {},
     "output_type": "execute_result"
    }
   ],
   "source": [
    "print(a[0,0])\n",
    "#accessing the first row and the first column\n",
    "type(a[0,0])"
   ]
  },
  {
   "cell_type": "code",
   "execution_count": 7,
   "id": "d63447f6-1d23-4219-886b-28ae580fef0a",
   "metadata": {
    "tags": []
   },
   "outputs": [
    {
     "name": "stdout",
     "output_type": "stream",
     "text": [
      "5\n"
     ]
    }
   ],
   "source": [
    "#how would you access the value 5 in the array a \n",
    "print(a[1,1])"
   ]
  },
  {
   "cell_type": "markdown",
   "id": "b91dc98a-18b2-4218-8a22-0bcbac4fd875",
   "metadata": {},
   "source": [
    "# Functions\n",
    "`print` was our exxample of a Python function!\n",
    "A function:\n",
    "- take in a set of **arguments**, separated by commas, and\n",
    "- use those arguments to produce some **output**\n",
    "\n",
    "argument = parameter: you might see argument more often in the documentation \n",
    "We can ask information about a function by executing `?` followed by the following function name:"
   ]
  },
  {
   "cell_type": "code",
   "execution_count": 8,
   "id": "c55f32ef-2574-46f1-af95-ef4f5abcdb34",
   "metadata": {
    "tags": []
   },
   "outputs": [
    {
     "data": {
      "text/plain": [
       "\u001b[0;31mDocstring:\u001b[0m\n",
       "print(value, ..., sep=' ', end='\\n', file=sys.stdout, flush=False)\n",
       "\n",
       "Prints the values to a stream, or to sys.stdout by default.\n",
       "Optional keyword arguments:\n",
       "file:  a file-like object (stream); defaults to the current sys.stdout.\n",
       "sep:   string inserted between values, default a space.\n",
       "end:   string appended after the last value, default a newline.\n",
       "flush: whether to forcibly flush the stream.\n",
       "\u001b[0;31mType:\u001b[0m      builtin_function_or_method\n"
      ]
     },
     "metadata": {},
     "output_type": "display_data"
    }
   ],
   "source": [
    "?print"
   ]
  },
  {
   "cell_type": "markdown",
   "id": "12e1bc69-1071-48e5-9cb1-d451d31f6dbb",
   "metadata": {},
   "source": [
    "- first line: function showing all of its arguments in paranthesis\n",
    "- then a short description of what the function does \n",
    "- finally, a list of the arguments and a brief explanation of each of them.\n",
    "\n",
    "Different types of arguments inside the paranthesis. Roughly speaking, there are two types of arguments:\n",
    "- **non-optional arguments**: arguments you need to specify for the function to do something\n",
    "- **optional argments**: arguments that are pre-filled with a default value by the function, but we can override them. Optional arguments appear inside the paranthesis () in the form \n",
    "\n",
    "`optional argument = default_value`"
   ]
  },
  {
   "cell_type": "code",
   "execution_count": 9,
   "id": "72a04d88-6f8c-404c-b33b-f4ec732ebc3a",
   "metadata": {
    "tags": []
   },
   "outputs": [
    {
     "name": "stdout",
     "output_type": "stream",
     "text": [
      "changing the dedault end argument of the print function:)"
     ]
    }
   ],
   "source": [
    "print('changing the dedault end argument of the print function' , end = ':)')"
   ]
  },
  {
   "cell_type": "markdown",
   "id": "71815b9e-9605-4a83-bf39-c989f747b012",
   "metadata": {},
   "source": [
    "# Attributes and Methods\n",
    "An object in Python has attributes and methods.\n",
    "\n",
    "- **attributes** : a property of an object, a piece of information about it \n",
    "- **method**: a procefure associated with an object; a function where the main parameter is the object. \n",
    "\n",
    "Access a variable's attributes and methods by adding a period'.' at the end of the variable's name\n",
    "'variable.variable_method()' or\n",
    "'variable.variable_attribute()'\n",
    "\n",
    "ex)\n",
    "Methods and attributes of Numpy arrays:"
   ]
  },
  {
   "cell_type": "code",
   "execution_count": 1,
   "id": "18f36cf6-e815-4114-9c9b-947b7f1a66bc",
   "metadata": {
    "tags": []
   },
   "outputs": [],
   "source": [
    "import numpy as np"
   ]
  },
  {
   "cell_type": "code",
   "execution_count": 2,
   "id": "af476a03-8875-422b-aab4-d279a9f724c4",
   "metadata": {
    "tags": []
   },
   "outputs": [
    {
     "data": {
      "text/plain": [
       "array([[1, 2, 3],\n",
       "       [4, 5, 6],\n",
       "       [7, 8, 9]])"
      ]
     },
     "execution_count": 2,
     "metadata": {},
     "output_type": "execute_result"
    }
   ],
   "source": [
    "# define a 3 by 3 array\n",
    "var = np.array([[1,2,3],[4,5,6],[7,8,9]])\n",
    "var"
   ]
  },
  {
   "cell_type": "code",
   "execution_count": 3,
   "id": "731f9deb-ad91-4e45-a19e-be3f5bc550de",
   "metadata": {
    "tags": []
   },
   "outputs": [
    {
     "data": {
      "text/plain": [
       "(3, 3)"
      ]
     },
     "execution_count": 3,
     "metadata": {},
     "output_type": "execute_result"
    }
   ],
   "source": [
    "#shape: attribute telling us the number of elements in each dimension of the array\n",
    "var.shape"
   ]
  },
  {
   "cell_type": "code",
   "execution_count": 4,
   "id": "9f9dfe1e-cf60-4f85-9505-c9fb0a09fa8d",
   "metadata": {
    "tags": []
   },
   "outputs": [
    {
     "data": {
      "text/plain": [
       "tuple"
      ]
     },
     "execution_count": 4,
     "metadata": {},
     "output_type": "execute_result"
    }
   ],
   "source": [
    "type(var.shape)"
   ]
  },
  {
   "cell_type": "code",
   "execution_count": 5,
   "id": "e9a2bd84-ca88-4e9d-a7d5-45643f5310fb",
   "metadata": {
    "tags": []
   },
   "outputs": [
    {
     "data": {
      "text/plain": [
       "2"
      ]
     },
     "execution_count": 5,
     "metadata": {},
     "output_type": "execute_result"
    }
   ],
   "source": [
    "#ndim is an attribute holding the number of array dimensions\n",
    "var.ndim"
   ]
  },
  {
   "cell_type": "code",
   "execution_count": 6,
   "id": "ae0e4be1-fd64-4893-aac3-bdbd7fe15354",
   "metadata": {
    "tags": []
   },
   "outputs": [
    {
     "data": {
      "text/plain": [
       "int"
      ]
     },
     "execution_count": 6,
     "metadata": {},
     "output_type": "execute_result"
    }
   ],
   "source": [
    "type(var.ndim)"
   ]
  },
  {
   "cell_type": "markdown",
   "id": "a20da038-da7b-4a60-a80f-05353cd5826d",
   "metadata": {},
   "source": [
    "-Notice attributes can have many different data types. \n",
    "\n",
    "Examples of methods:"
   ]
  },
  {
   "cell_type": "code",
   "execution_count": 7,
   "id": "bbc224ff-b415-4222-b9ac-0399f867c49b",
   "metadata": {
    "tags": []
   },
   "outputs": [
    {
     "data": {
      "text/plain": [
       "1"
      ]
     },
     "execution_count": 7,
     "metadata": {},
     "output_type": "execute_result"
    }
   ],
   "source": [
    "#min method for array\n",
    "#return the minimum value in the array\n",
    "var.min()"
   ]
  },
  {
   "cell_type": "code",
   "execution_count": 9,
   "id": "aa8803d7-d2f1-43eb-88a1-254b6c5f4f95",
   "metadata": {
    "tags": []
   },
   "outputs": [
    {
     "data": {
      "text/plain": [
       "builtin_function_or_method"
      ]
     },
     "execution_count": 9,
     "metadata": {},
     "output_type": "execute_result"
    }
   ],
   "source": [
    "type(var.min)"
   ]
  },
  {
   "cell_type": "markdown",
   "id": "ed89c8a0-c3f9-47fc-958d-91d7edd3bb7d",
   "metadata": {},
   "source": [
    "# R and Python \n",
    "R:\n",
    "- doesn't use methods within an object\n",
    "- functions in R are extrinsic to (outside) the objects they are acting on\n",
    "\n",
    "Example: recreate getting the min value in an array\n",
    "In R there would be two separate items: the variable `var` and a *separate* function `min` that gets `var` as a paramteter:\n",
    "\n",
    "```\n",
    "#this is R code\n",
    "var <- array(c(1,4,7,2,5,8,2,6,9), dim = c(3,3)\n",
    "min(var)\n",
    "\n",
    "```\n",
    "Using the pipe operator in R's tidyerse is closer to the '.' in Python:\n",
    "\n",
    "```\n",
    "var <- array(c(1,4,7,2,5,8,2,6,9), dim = c(3,3))\n",
    "var <%< min()\n",
    "```\n",
    "What is happening?\n",
    "The pipe is passing `var` to the `min()` function as its first argument. This is essentially what the '.' does in Python. \n",
    "\n",
    "```\n",
    "var = np.array([[1,2,3],[4,5,6],[7,8,9]])\n",
    "var.min()"
   ]
  }
 ],
 "metadata": {
  "kernelspec": {
   "display_name": "Anaconda 3 (Base)",
   "language": "python",
   "name": "base"
  },
  "language_info": {
   "codemirror_mode": {
    "name": "ipython",
    "version": 3
   },
   "file_extension": ".py",
   "mimetype": "text/x-python",
   "name": "python",
   "nbconvert_exporter": "python",
   "pygments_lexer": "ipython3",
   "version": "3.9.13"
  }
 },
 "nbformat": 4,
 "nbformat_minor": 5
}
