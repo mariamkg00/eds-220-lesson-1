{
 "cells": [
  {
   "cell_type": "markdown",
   "id": "5201347c-12f8-4c7c-97bb-a99e3ae8cb55",
   "metadata": {},
   "source": [
    "# `numpy\n",
    "- one of the core packages for numerical computing in Python\n",
    "- many packages are built on top of numpy\n",
    "- 'numpy' has been optimized for processing: faster due to memory access"
   ]
  },
  {
   "cell_type": "code",
   "execution_count": null,
   "id": "032e4b61-45c0-4853-b84d-8dbba0e01d25",
   "metadata": {
    "tags": []
   },
   "outputs": [],
   "source": [
    "#import Numpy with standard abbreviation\n",
    "import numpy as np "
   ]
  },
  {
   "cell_type": "markdown",
   "id": "4e56fcfe-89d3-476e-a2d9-103f26b59dbc",
   "metadata": {},
   "source": [
    "# Variables\n",
    "We can think about variables as a name we assign to a particular object in Python. For example:"
   ]
  },
  {
   "cell_type": "code",
   "execution_count": 2,
   "id": "13fdd3c7-3d6e-4d8c-ae74-407dc4c0c389",
   "metadata": {
    "tags": []
   },
   "outputs": [],
   "source": [
    "# assign a small array to a vraible a \n",
    "#np.array- making an array , list of a list. first row is 1,1,2\n",
    "a = np.array([ [1,1,2], [3,5,8] ])"
   ]
  },
  {
   "cell_type": "markdown",
   "id": "4e14e1b4-6771-4255-bdad-623f575013e0",
   "metadata": {},
   "source": [
    "WHen we run the cell, we store the variable and its value. We can see the variable's value in two ways:"
   ]
  },
  {
   "cell_type": "code",
   "execution_count": 3,
   "id": "00dbce09-1c49-4b45-9a2d-aea158badafe",
   "metadata": {
    "tags": []
   },
   "outputs": [
    {
     "data": {
      "text/plain": [
       "array([[1, 1, 2],\n",
       "       [3, 5, 8]])"
      ]
     },
     "execution_count": 3,
     "metadata": {},
     "output_type": "execute_result"
    }
   ],
   "source": [
    "a\n",
    "#two rows three columns"
   ]
  },
  {
   "cell_type": "code",
   "execution_count": 4,
   "id": "bbdd92fd-91e2-4480-a7d2-9978ddc9da0a",
   "metadata": {
    "tags": []
   },
   "outputs": [
    {
     "name": "stdout",
     "output_type": "stream",
     "text": [
      "[[1 1 2]\n",
      " [3 5 8]]\n"
     ]
    }
   ],
   "source": [
    "print(a)"
   ]
  },
  {
   "cell_type": "markdown",
   "id": "cbad3516-6c4e-4867-88d4-ecf61d07d79c",
   "metadata": {},
   "source": [
    "## naming variables\n",
    "In the class, we are going to use 'snake_case' for naming variables. \n",
    "\n",
    "# Variables and objects\n",
    "**object**: often encountered in Python documentation and tutorials.\n",
    "- a bundle of properties and actions about something specific\n",
    "ex) \n",
    "- object: data frame\n",
    "- properties: number of rows, names of columns, data made\n",
    "- actions: selecting a row, adding a column \n",
    "\n",
    "A variable is a name we give a specific object, and the same object can be referenced by different variables. \n",
    "\n",
    "ex)\n",
    "- The Sun = object\n",
    "- sol = spanish word for sun = variable \n",
    "- soleil = French word for sun = another variable \n",
    "\n",
    "In practice, we will use object and variable interchangeably. "
   ]
  },
  {
   "cell_type": "markdown",
   "id": "b2286a32-2783-4571-8cac-0eff9149ba2c",
   "metadata": {},
   "source": [
    "# Types\n",
    "\n",
    "Each object in Python has a type. \n",
    "\n",
    "type = what kind of object it is. \n",
    "\n",
    "We can also call the type of the object, the **class** of the object. \n",
    "We can see the type/class of an object by using the `type` function:"
   ]
  },
  {
   "cell_type": "code",
   "execution_count": 5,
   "id": "77923b1c-d719-4a2c-bffb-eba6e09f0900",
   "metadata": {
    "tags": []
   },
   "outputs": [
    {
     "name": "stdout",
     "output_type": "stream",
     "text": [
      "[[1 1 2]\n",
      " [3 5 8]]\n"
     ]
    },
    {
     "data": {
      "text/plain": [
       "numpy.ndarray"
      ]
     },
     "execution_count": 5,
     "metadata": {},
     "output_type": "execute_result"
    }
   ],
   "source": [
    "print(a)\n",
    "type(a)"
   ]
  },
  {
   "cell_type": "markdown",
   "id": "e9904853-7a9b-4eb8-bbc5-ffd9daa650da",
   "metadata": {},
   "source": [
    "The `numpy.ndarray` is the core object/data type in the NumPy package. We can check the type of an entry in the array by indexing:"
   ]
  },
  {
   "cell_type": "code",
   "execution_count": 6,
   "id": "e892affc-1a37-427d-a571-3fb9a7244187",
   "metadata": {
    "tags": []
   },
   "outputs": [
    {
     "name": "stdout",
     "output_type": "stream",
     "text": [
      "1\n"
     ]
    },
    {
     "data": {
      "text/plain": [
       "numpy.int64"
      ]
     },
     "execution_count": 6,
     "metadata": {},
     "output_type": "execute_result"
    }
   ],
   "source": [
    "print(a[0,0])\n",
    "#accessing the first row and the first column\n",
    "type(a[0,0])"
   ]
  },
  {
   "cell_type": "code",
   "execution_count": 7,
   "id": "d63447f6-1d23-4219-886b-28ae580fef0a",
   "metadata": {
    "tags": []
   },
   "outputs": [
    {
     "name": "stdout",
     "output_type": "stream",
     "text": [
      "5\n"
     ]
    }
   ],
   "source": [
    "#how would you access the value 5 in the array a \n",
    "print(a[1,1])"
   ]
  },
  {
   "cell_type": "markdown",
   "id": "b91dc98a-18b2-4218-8a22-0bcbac4fd875",
   "metadata": {},
   "source": [
    "# Functions\n",
    "`print` was our exxample of a Python function!\n",
    "A function:\n",
    "- take in a set of **arguments**, separated by commas, and\n",
    "- use those arguments to produce some **output**\n",
    "\n",
    "argument = parameter: you might see argument more often in the documentation \n",
    "We can ask information about a function by executing `?` followed by the following function name:"
   ]
  },
  {
   "cell_type": "code",
   "execution_count": 8,
   "id": "c55f32ef-2574-46f1-af95-ef4f5abcdb34",
   "metadata": {
    "tags": []
   },
   "outputs": [
    {
     "data": {
      "text/plain": [
       "\u001b[0;31mDocstring:\u001b[0m\n",
       "print(value, ..., sep=' ', end='\\n', file=sys.stdout, flush=False)\n",
       "\n",
       "Prints the values to a stream, or to sys.stdout by default.\n",
       "Optional keyword arguments:\n",
       "file:  a file-like object (stream); defaults to the current sys.stdout.\n",
       "sep:   string inserted between values, default a space.\n",
       "end:   string appended after the last value, default a newline.\n",
       "flush: whether to forcibly flush the stream.\n",
       "\u001b[0;31mType:\u001b[0m      builtin_function_or_method\n"
      ]
     },
     "metadata": {},
     "output_type": "display_data"
    }
   ],
   "source": [
    "?print"
   ]
  },
  {
   "cell_type": "markdown",
   "id": "12e1bc69-1071-48e5-9cb1-d451d31f6dbb",
   "metadata": {},
   "source": [
    "- first line: function showing all of its arguments in paranthesis\n",
    "- then a short description of what the function does \n",
    "- finally, a list of the arguments and a brief explanation of each of them.\n",
    "\n",
    "Different types of arguments inside the paranthesis. Roughly speaking, there are two types of arguments:\n",
    "- **non-optional arguments**: arguments you need to specify for the function to do something\n",
    "- **optional argments**: arguments that are pre-filled with a default value by the function, but we can override them. Optional arguments appear inside the paranthesis () in the form \n",
    "\n",
    "`optional argument = default_value`"
   ]
  },
  {
   "cell_type": "code",
   "execution_count": 9,
   "id": "72a04d88-6f8c-404c-b33b-f4ec732ebc3a",
   "metadata": {
    "tags": []
   },
   "outputs": [
    {
     "name": "stdout",
     "output_type": "stream",
     "text": [
      "changing the dedault end argument of the print function:)"
     ]
    }
   ],
   "source": [
    "print('changing the dedault end argument of the print function' , end = ':)')"
   ]
  }
 ],
 "metadata": {
  "kernelspec": {
   "display_name": "Anaconda 3 (Base)",
   "language": "python",
   "name": "base"
  },
  "language_info": {
   "codemirror_mode": {
    "name": "ipython",
    "version": 3
   },
   "file_extension": ".py",
   "mimetype": "text/x-python",
   "name": "python",
   "nbconvert_exporter": "python",
   "pygments_lexer": "ipython3",
   "version": "3.9.13"
  }
 },
 "nbformat": 4,
 "nbformat_minor": 5
}
