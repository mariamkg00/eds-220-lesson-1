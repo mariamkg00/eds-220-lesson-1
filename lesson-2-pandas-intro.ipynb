{
 "cells": [
  {
   "cell_type": "markdown",
   "id": "1d7c99f7-a175-494e-bbe5-931f21053b4f",
   "metadata": {},
   "source": [
    "# Objectives:\n",
    "Review core `pandas` objects: `pandas.Series`, `pandas.DataFrame`\n",
    "#`pandas`\n",
    "- Python pakcage to wrangle and analyze tabular data\n",
    "- built on top of numpy\n",
    "-core tool for data analysis in Python\n"
   ]
  },
  {
   "cell_type": "code",
   "execution_count": 2,
   "id": "9a36edfb-6d51-4f04-9bfb-8c84dfa29a04",
   "metadata": {
    "tags": []
   },
   "outputs": [],
   "source": [
    "#import pandas and numpy with standard abbreviation\n",
    "import pandas as pd\n",
    "import numpy as np "
   ]
  },
  {
   "cell_type": "markdown",
   "id": "be3027fa-6c9a-4bb9-8b94-45928ea03ed4",
   "metadata": {},
   "source": [
    "# Series:\n",
    "A `pandas.Series`:\n",
    "- is one of the core data structures in `pandas`\n",
    "- a one dimensional array of *indexed* data \n",
    "- will be the columns of the `pandas.DataFrame`\n",
    "\n",
    "# Making a pandas Series\n",
    "\n",
    "Several ways of making a pandas Series. \n",
    "For now, we will make series using:\n",
    "```\n",
    "\n",
    "s = pd.Series(data, index = index)\n",
    "\n",
    "\n",
    "```\n",
    "-`data`= numpy array for a list of object that can be converted to Numpy types:\n",
    "-`index`= a list of indices the same height as data\n"
   ]
  },
  {
   "cell_type": "code",
   "execution_count": 3,
   "id": "89a6f5a6-c760-4b41-85cc-988b74d03af7",
   "metadata": {
    "tags": []
   },
   "outputs": [
    {
     "data": {
      "text/plain": [
       "array([0, 1, 2])"
      ]
     },
     "execution_count": 3,
     "metadata": {},
     "output_type": "execute_result"
    }
   ],
   "source": [
    "# ex: a pandas series from a numpy array\n",
    "\n",
    "#np.arange() function constructs an array of consecutive integers\n",
    "np.arange(3)"
   ]
  },
  {
   "cell_type": "code",
   "execution_count": 4,
   "id": "e30b9d90-a9aa-4f59-a905-89204aa2161c",
   "metadata": {
    "tags": []
   },
   "outputs": [
    {
     "data": {
      "text/plain": [
       "a    0\n",
       "b    1\n",
       "c    2\n",
       "dtype: int64"
      ]
     },
     "execution_count": 4,
     "metadata": {},
     "output_type": "execute_result"
    }
   ],
   "source": [
    "pd.Series(np.arange(3), index =['a','b','c'])"
   ]
  },
  {
   "cell_type": "markdown",
   "id": "e82070f0-5899-4799-a3fd-2da61aef7e9c",
   "metadata": {},
   "source": [
    "What kind of parameter is `index`?\n",
    "- A: an optional parameter, there is a default vaulue to it\n",
    "- If we don't specify `index`, the default is to start theh index from 0 \n",
    "ex:"
   ]
  },
  {
   "cell_type": "code",
   "execution_count": null,
   "id": "b9815905-97d5-4881-8c57-314a7daa6d2d",
   "metadata": {},
   "outputs": [],
   "source": [
    "#Making a series from a list of strings with default index\n",
    "pd.Series(['EDS220'],)"
   ]
  },
  {
   "cell_type": "markdown",
   "id": "9a0f0992-6fcc-49df-b8a6-2de39e0895ea",
   "metadata": {},
   "source": [
    "# Operations of series\n",
    "Arithmetic operations work on series can also meet NumPy funcitons.\n",
    "- example:"
   ]
  },
  {
   "cell_type": "code",
   "execution_count": 6,
   "id": "330698ad-067d-4c42-988c-fe894570a88e",
   "metadata": {
    "tags": []
   },
   "outputs": [
    {
     "name": "stdout",
     "output_type": "stream",
     "text": [
      "Andrea      98\n",
      "Beth        73\n",
      "Carolina    65\n",
      "dtype: int64 \n",
      "\n",
      "Andrea      9.8\n",
      "Beth        7.3\n",
      "Carolina    6.5\n",
      "dtype: float64\n"
     ]
    }
   ],
   "source": [
    "#define a seriese\n",
    "s = pd.Series([98 , 73, 65], index = ['Andrea','Beth','Carolina'])\n",
    "print(s, '\\n')\n",
    "#divide each element in the series by ten\n",
    "print(s/10)"
   ]
  },
  {
   "cell_type": "markdown",
   "id": "bf0be34a-284c-4f6e-a337-8744731d4447",
   "metadata": {},
   "source": [
    "Example: Make a new Series with `True`/`False` values indicating whether the elements satisfy a condition or not. "
   ]
  },
  {
   "cell_type": "code",
   "execution_count": 7,
   "id": "8ad9edd2-4dc7-4657-a0e1-594ccda73689",
   "metadata": {
    "tags": []
   },
   "outputs": [
    {
     "data": {
      "text/plain": [
       "Andrea       True\n",
       "Beth         True\n",
       "Carolina    False\n",
       "dtype: bool"
      ]
     },
     "execution_count": 7,
     "metadata": {},
     "output_type": "execute_result"
    }
   ],
   "source": [
    "s > 70"
   ]
  },
  {
   "cell_type": "markdown",
   "id": "6eaf5c94-0b9a-4da4-9645-0dff75547df1",
   "metadata": {},
   "source": [
    "This is simple --but important!: Using conditions on Series is key to select data from dataframes."
   ]
  },
  {
   "cell_type": "markdown",
   "id": "65e84bc5-3f53-457b-b705-6006072f9d0c",
   "metadata": {},
   "source": [
    "## Attributes and methods\n",
    "\n",
    "Two examples about identifying missing values.\n",
    "- missing values in `pandas ` are represented by `np.Nan` = not a number\n",
    "- `NaN' is a type of float in numpy "
   ]
  },
  {
   "cell_type": "code",
   "execution_count": 10,
   "id": "9bd6d710-9516-4942-b4a8-5bcabf2ce23d",
   "metadata": {
    "tags": []
   },
   "outputs": [
    {
     "data": {
      "text/plain": [
       "float"
      ]
     },
     "execution_count": 10,
     "metadata": {},
     "output_type": "execute_result"
    }
   ],
   "source": [
    "np.NaN\n",
    "type(np.NaN)"
   ]
  },
  {
   "cell_type": "code",
   "execution_count": 12,
   "id": "4234c529-86f2-4b0a-93ba-b29cac136701",
   "metadata": {
    "tags": []
   },
   "outputs": [
    {
     "data": {
      "text/plain": [
       "0    1.0\n",
       "1    2.0\n",
       "2    NaN\n",
       "3    4.0\n",
       "4    NaN\n",
       "dtype: float64"
      ]
     },
     "execution_count": 12,
     "metadata": {},
     "output_type": "execute_result"
    }
   ],
   "source": [
    "#series with NaNs in it:\n",
    "s= pd.Series([1,2, np.NaN, 4, np.NaN])\n",
    "s"
   ]
  },
  {
   "cell_type": "markdown",
   "id": "b091b2e6-64e1-40f9-8f00-fec937f35a0f",
   "metadata": {},
   "source": [
    "`hasnans`= attribute of pandas series, returns `True` if there are any NAs:"
   ]
  },
  {
   "cell_type": "code",
   "execution_count": 13,
   "id": "5013073e-8892-4c78-9699-86b48ae3b5b8",
   "metadata": {
    "tags": []
   },
   "outputs": [
    {
     "data": {
      "text/plain": [
       "True"
      ]
     },
     "execution_count": 13,
     "metadata": {},
     "output_type": "execute_result"
    }
   ],
   "source": [
    "s.hasnans"
   ]
  },
  {
   "cell_type": "markdown",
   "id": "043691ba-c225-47a2-a3a6-e369af4e4c64",
   "metadata": {},
   "source": [
    "`isna()`= a method of series, returns a series indicating which elements are NAs"
   ]
  },
  {
   "cell_type": "code",
   "execution_count": 14,
   "id": "be52bd50-d11f-4f0e-a245-c7899b8c8955",
   "metadata": {
    "tags": []
   },
   "outputs": [
    {
     "data": {
      "text/plain": [
       "0    False\n",
       "1    False\n",
       "2     True\n",
       "3    False\n",
       "4     True\n",
       "dtype: bool"
      ]
     },
     "execution_count": 14,
     "metadata": {},
     "output_type": "execute_result"
    }
   ],
   "source": [
    "s.isna()"
   ]
  },
  {
   "cell_type": "markdown",
   "id": "de5e5678-0455-4936-986a-aa4662ff3715",
   "metadata": {},
   "source": [
    "`bool`: `True` or `False` are **boolean values**\n",
    "# Dataframes\n",
    "`pandas.DataFrame`:\n",
    "\n",
    "- most used object in `pandas`\n",
    "- represents tabular data (spreadsheet)\n",
    "- eaeech column is a `pandas.Series`\n",
    "\n",
    "# Making a `pandas.DataFrame`\n",
    "*Many ways of making a dataframe. Let's see one\n",
    "\n",
    "Remember dictionaries? They are sets of key-value pairs:\n",
    "\n",
    "```\n",
    "{ key1: value1,\n",
    "    key2: value2\n",
    "}\n",
    "```\n",
    "\n",
    "Think of a `pd.DataFrame` as a dictionary where:\n",
    "- keys = column names\n",
    "- values = column values \n",
    "\n",
    "We can make a dataframe like this:\n"
   ]
  },
  {
   "cell_type": "code",
   "execution_count": 15,
   "id": "5745948e-2dec-4a3d-a9d7-1bbef9f87531",
   "metadata": {
    "tags": []
   },
   "outputs": [
    {
     "data": {
      "text/plain": [
       "{'col_name1': array([0, 1, 2]), 'col_name3': [3.1, 3.2, 3.3]}"
      ]
     },
     "execution_count": 15,
     "metadata": {},
     "output_type": "execute_result"
    }
   ],
   "source": [
    "#making dictionary with columns' data\n",
    "d = {'col_name1' : np.arange(3),\n",
    "    'col_name3': [3.1,3.2,3.3]}\n",
    "d"
   ]
  },
  {
   "cell_type": "code",
   "execution_count": 17,
   "id": "6b33f558-8327-442e-ba8e-9375ee0108d6",
   "metadata": {
    "tags": []
   },
   "outputs": [
    {
     "data": {
      "text/html": [
       "<div>\n",
       "<style scoped>\n",
       "    .dataframe tbody tr th:only-of-type {\n",
       "        vertical-align: middle;\n",
       "    }\n",
       "\n",
       "    .dataframe tbody tr th {\n",
       "        vertical-align: top;\n",
       "    }\n",
       "\n",
       "    .dataframe thead th {\n",
       "        text-align: right;\n",
       "    }\n",
       "</style>\n",
       "<table border=\"1\" class=\"dataframe\">\n",
       "  <thead>\n",
       "    <tr style=\"text-align: right;\">\n",
       "      <th></th>\n",
       "      <th>col_name1</th>\n",
       "      <th>col_name3</th>\n",
       "    </tr>\n",
       "  </thead>\n",
       "  <tbody>\n",
       "    <tr>\n",
       "      <th>0</th>\n",
       "      <td>0</td>\n",
       "      <td>3.1</td>\n",
       "    </tr>\n",
       "    <tr>\n",
       "      <th>1</th>\n",
       "      <td>1</td>\n",
       "      <td>3.2</td>\n",
       "    </tr>\n",
       "    <tr>\n",
       "      <th>2</th>\n",
       "      <td>2</td>\n",
       "      <td>3.3</td>\n",
       "    </tr>\n",
       "  </tbody>\n",
       "</table>\n",
       "</div>"
      ],
      "text/plain": [
       "   col_name1  col_name3\n",
       "0          0        3.1\n",
       "1          1        3.2\n",
       "2          2        3.3"
      ]
     },
     "execution_count": 17,
     "metadata": {},
     "output_type": "execute_result"
    }
   ],
   "source": [
    "df = pd.DataFrame(d)\n",
    "df"
   ]
  },
  {
   "cell_type": "markdown",
   "id": "17474ddc-b3a4-4edb-a6bb-0bb5e2dfac14",
   "metadata": {},
   "source": [
    "# In place operations\n",
    "Let's renamme the data frame's columns.\n",
    "We can use a dataframe *method* called `rename`.\n",
    "`rename` takes in as an input a dictionary:\n",
    "\n",
    "```\n",
    "{'col1_old_name' : 'col1_new_name',\n",
    "'col2_old_name' : `col2_new_name`\n",
    "}\n",
    "```"
   ]
  },
  {
   "cell_type": "code",
   "execution_count": 24,
   "id": "2bb306f4-d251-4614-86b1-b8245d13f59c",
   "metadata": {
    "tags": []
   },
   "outputs": [
    {
     "data": {
      "text/html": [
       "<div>\n",
       "<style scoped>\n",
       "    .dataframe tbody tr th:only-of-type {\n",
       "        vertical-align: middle;\n",
       "    }\n",
       "\n",
       "    .dataframe tbody tr th {\n",
       "        vertical-align: top;\n",
       "    }\n",
       "\n",
       "    .dataframe thead th {\n",
       "        text-align: right;\n",
       "    }\n",
       "</style>\n",
       "<table border=\"1\" class=\"dataframe\">\n",
       "  <thead>\n",
       "    <tr style=\"text-align: right;\">\n",
       "      <th></th>\n",
       "      <th>col_name1</th>\n",
       "      <th>col_name3</th>\n",
       "    </tr>\n",
       "  </thead>\n",
       "  <tbody>\n",
       "    <tr>\n",
       "      <th>0</th>\n",
       "      <td>0</td>\n",
       "      <td>3.1</td>\n",
       "    </tr>\n",
       "    <tr>\n",
       "      <th>1</th>\n",
       "      <td>1</td>\n",
       "      <td>3.2</td>\n",
       "    </tr>\n",
       "    <tr>\n",
       "      <th>2</th>\n",
       "      <td>2</td>\n",
       "      <td>3.3</td>\n",
       "    </tr>\n",
       "  </tbody>\n",
       "</table>\n",
       "</div>"
      ],
      "text/plain": [
       "   col_name1  col_name3\n",
       "0          0        3.1\n",
       "1          1        3.2\n",
       "2          2        3.3"
      ]
     },
     "execution_count": 24,
     "metadata": {},
     "output_type": "execute_result"
    }
   ],
   "source": [
    "#define new column names\n",
    "col_names = {'col_name_1' : 'col1',\n",
    "             'col_name_2' : 'col2',\n",
    "             }\n",
    "\n",
    "# rename using rename\n",
    "df.rename(columns = col_names)"
   ]
  },
  {
   "cell_type": "markdown",
   "id": "ecd21672-9244-42cc-89e5-2946f55134ef",
   "metadata": {},
   "source": [
    "Nothing changed:\n",
    "`df.rename()`: doesn't change the column names *in place*, meaning it doesn't modify the object itself. Instead it makes a new object as an output.\n",
    "\n",
    "Assign output back to dataframe to change it. "
   ]
  },
  {
   "cell_type": "code",
   "execution_count": 25,
   "id": "7b165301-e28c-4ef8-b5d4-c91e22da9d69",
   "metadata": {
    "tags": []
   },
   "outputs": [
    {
     "data": {
      "text/html": [
       "<div>\n",
       "<style scoped>\n",
       "    .dataframe tbody tr th:only-of-type {\n",
       "        vertical-align: middle;\n",
       "    }\n",
       "\n",
       "    .dataframe tbody tr th {\n",
       "        vertical-align: top;\n",
       "    }\n",
       "\n",
       "    .dataframe thead th {\n",
       "        text-align: right;\n",
       "    }\n",
       "</style>\n",
       "<table border=\"1\" class=\"dataframe\">\n",
       "  <thead>\n",
       "    <tr style=\"text-align: right;\">\n",
       "      <th></th>\n",
       "      <th>col_name1</th>\n",
       "      <th>col_name3</th>\n",
       "    </tr>\n",
       "  </thead>\n",
       "  <tbody>\n",
       "    <tr>\n",
       "      <th>0</th>\n",
       "      <td>0</td>\n",
       "      <td>3.1</td>\n",
       "    </tr>\n",
       "    <tr>\n",
       "      <th>1</th>\n",
       "      <td>1</td>\n",
       "      <td>3.2</td>\n",
       "    </tr>\n",
       "    <tr>\n",
       "      <th>2</th>\n",
       "      <td>2</td>\n",
       "      <td>3.3</td>\n",
       "    </tr>\n",
       "  </tbody>\n",
       "</table>\n",
       "</div>"
      ],
      "text/plain": [
       "   col_name1  col_name3\n",
       "0          0        3.1\n",
       "1          1        3.2\n",
       "2          2        3.3"
      ]
     },
     "execution_count": 25,
     "metadata": {},
     "output_type": "execute_result"
    }
   ],
   "source": [
    "df = df.rename(columns = col_names)\n",
    "df"
   ]
  }
 ],
 "metadata": {
  "kernelspec": {
   "display_name": "Anaconda 3 (Base)",
   "language": "python",
   "name": "base"
  },
  "language_info": {
   "codemirror_mode": {
    "name": "ipython",
    "version": 3
   },
   "file_extension": ".py",
   "mimetype": "text/x-python",
   "name": "python",
   "nbconvert_exporter": "python",
   "pygments_lexer": "ipython3",
   "version": "3.9.13"
  }
 },
 "nbformat": 4,
 "nbformat_minor": 5
}
